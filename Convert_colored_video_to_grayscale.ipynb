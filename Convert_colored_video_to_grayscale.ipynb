{
  "nbformat": 4,
  "nbformat_minor": 0,
  "metadata": {
    "colab": {
      "provenance": [],
      "include_colab_link": true
    },
    "kernelspec": {
      "name": "python3",
      "display_name": "Python 3"
    },
    "language_info": {
      "name": "python"
    }
  },
  "cells": [
    {
      "cell_type": "markdown",
      "metadata": {
        "id": "view-in-github",
        "colab_type": "text"
      },
      "source": [
        "<a href=\"https://colab.research.google.com/github/aanasingla/aana-the-techie/blob/main/Convert_colored_video_to_grayscale.ipynb\" target=\"_parent\"><img src=\"https://colab.research.google.com/assets/colab-badge.svg\" alt=\"Open In Colab\"/></a>"
      ]
    },
    {
      "cell_type": "code",
      "source": [
        "import cv2\n",
        "import numpy as np\n",
        "\n",
        "# Output file\n",
        "output_video = 'dummy_color_video.mp4'\n",
        "width, height = 320, 240\n",
        "fps = 20\n",
        "duration_sec = 5  # Total duration: 5 seconds\n",
        "\n",
        "# Video writer setup\n",
        "fourcc = cv2.VideoWriter_fourcc(*'mp4v')\n",
        "out = cv2.VideoWriter(output_video, fourcc, fps, (width, height))\n",
        "\n",
        "# Generate frames\n",
        "for i in range(fps * duration_sec):\n",
        "    frame = np.zeros((height, width, 3), dtype=np.uint8)\n",
        "\n",
        "    # Draw a moving colored rectangle\n",
        "    color = ((i * 5) % 255, (i * 3) % 255, (i * 7) % 255)\n",
        "    top_left = (i % (width - 60), i % (height - 60))\n",
        "    bottom_right = (top_left[0] + 60, top_left[1] + 60)\n",
        "    cv2.rectangle(frame, top_left, bottom_right, color, -1)\n",
        "\n",
        "    # Optional: add frame number\n",
        "    cv2.putText(frame, f\"Frame {i+1}\", (10, 230), cv2.FONT_HERSHEY_SIMPLEX, 0.5, (255,255,255), 1)\n",
        "\n",
        "    out.write(frame)\n",
        "\n",
        "out.release()\n",
        "print(\"Dummy colored video created as 'dummy_color_video.mp4'\")"
      ],
      "metadata": {
        "colab": {
          "base_uri": "https://localhost:8080/"
        },
        "id": "HeLlnibhZlhj",
        "outputId": "1efd19c8-281f-4cff-ab95-a386dc0109e2"
      },
      "execution_count": 1,
      "outputs": [
        {
          "output_type": "stream",
          "name": "stdout",
          "text": [
            "Dummy colored video created as 'dummy_color_video.mp4'\n"
          ]
        }
      ]
    },
    {
      "cell_type": "code",
      "source": [
        " #Convert dummy video to black-and-white\n",
        "input_video = 'dummy_color_video.mp4'\n",
        "bw_output = 'bw_dummy_video.mp4'\n",
        "\n",
        "cap = cv2.VideoCapture(input_video)\n",
        "\n",
        "fps = int(cap.get(cv2.CAP_PROP_FPS))\n",
        "width = int(cap.get(cv2.CAP_PROP_FRAME_WIDTH))\n",
        "height = int(cap.get(cv2.CAP_PROP_FRAME_HEIGHT))\n",
        "fourcc = cv2.VideoWriter_fourcc(*'mp4v')\n",
        "out = cv2.VideoWriter(bw_output, fourcc, fps, (width, height), isColor=False)\n",
        "\n",
        "while cap.isOpened():\n",
        "    ret, frame = cap.read()\n",
        "    if not ret:\n",
        "        break\n",
        "\n",
        "    gray = cv2.cvtColor(frame, cv2.COLOR_BGR2GRAY)\n",
        "    _, bw = cv2.threshold(gray, 127, 255, cv2.THRESH_BINARY)\n",
        "    out.write(bw)\n",
        "\n",
        "cap.release()\n",
        "out.release()\n",
        "print(\"Video converted to black-and-white and saved as 'bw_dummy_video.mp4'\")"
      ],
      "metadata": {
        "colab": {
          "base_uri": "https://localhost:8080/"
        },
        "id": "NrEGMhWPZtTA",
        "outputId": "a2d0c071-f02a-4c75-e9d1-6a3b9d175290"
      },
      "execution_count": 2,
      "outputs": [
        {
          "output_type": "stream",
          "name": "stdout",
          "text": [
            "Video converted to black-and-white and saved as 'bw_dummy_video.mp4'\n"
          ]
        }
      ]
    },
    {
      "cell_type": "code",
      "source": [
        "from google.colab import files\n",
        "files.download('bw_dummy_video.mp4')"
      ],
      "metadata": {
        "colab": {
          "base_uri": "https://localhost:8080/",
          "height": 17
        },
        "id": "j4YeDpBCZ8zD",
        "outputId": "82deca47-632d-4bce-f40d-7a5fa5fdbca0"
      },
      "execution_count": 3,
      "outputs": [
        {
          "output_type": "display_data",
          "data": {
            "text/plain": [
              "<IPython.core.display.Javascript object>"
            ],
            "application/javascript": [
              "\n",
              "    async function download(id, filename, size) {\n",
              "      if (!google.colab.kernel.accessAllowed) {\n",
              "        return;\n",
              "      }\n",
              "      const div = document.createElement('div');\n",
              "      const label = document.createElement('label');\n",
              "      label.textContent = `Downloading \"${filename}\": `;\n",
              "      div.appendChild(label);\n",
              "      const progress = document.createElement('progress');\n",
              "      progress.max = size;\n",
              "      div.appendChild(progress);\n",
              "      document.body.appendChild(div);\n",
              "\n",
              "      const buffers = [];\n",
              "      let downloaded = 0;\n",
              "\n",
              "      const channel = await google.colab.kernel.comms.open(id);\n",
              "      // Send a message to notify the kernel that we're ready.\n",
              "      channel.send({})\n",
              "\n",
              "      for await (const message of channel.messages) {\n",
              "        // Send a message to notify the kernel that we're ready.\n",
              "        channel.send({})\n",
              "        if (message.buffers) {\n",
              "          for (const buffer of message.buffers) {\n",
              "            buffers.push(buffer);\n",
              "            downloaded += buffer.byteLength;\n",
              "            progress.value = downloaded;\n",
              "          }\n",
              "        }\n",
              "      }\n",
              "      const blob = new Blob(buffers, {type: 'application/binary'});\n",
              "      const a = document.createElement('a');\n",
              "      a.href = window.URL.createObjectURL(blob);\n",
              "      a.download = filename;\n",
              "      div.appendChild(a);\n",
              "      a.click();\n",
              "      div.remove();\n",
              "    }\n",
              "  "
            ]
          },
          "metadata": {}
        },
        {
          "output_type": "display_data",
          "data": {
            "text/plain": [
              "<IPython.core.display.Javascript object>"
            ],
            "application/javascript": [
              "download(\"download_6256c423-9002-4697-b6cb-63e2574422e9\", \"bw_dummy_video.mp4\", 64742)"
            ]
          },
          "metadata": {}
        }
      ]
    },
    {
      "cell_type": "code",
      "source": [],
      "metadata": {
        "id": "vo17n_dHaJA0"
      },
      "execution_count": null,
      "outputs": []
    }
  ]
}