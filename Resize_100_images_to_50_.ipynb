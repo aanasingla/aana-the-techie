{
  "nbformat": 4,
  "nbformat_minor": 0,
  "metadata": {
    "colab": {
      "provenance": [],
      "include_colab_link": true
    },
    "kernelspec": {
      "name": "python3",
      "display_name": "Python 3"
    },
    "language_info": {
      "name": "python"
    }
  },
  "cells": [
    {
      "cell_type": "markdown",
      "metadata": {
        "id": "view-in-github",
        "colab_type": "text"
      },
      "source": [
        "<a href=\"https://colab.research.google.com/github/aanasingla/aana-the-techie/blob/main/Resize_100_images_to_50_.ipynb\" target=\"_parent\"><img src=\"https://colab.research.google.com/assets/colab-badge.svg\" alt=\"Open In Colab\"/></a>"
      ]
    },
    {
      "cell_type": "code",
      "execution_count": 1,
      "metadata": {
        "colab": {
          "base_uri": "https://localhost:8080/"
        },
        "id": "ZiTXL5T7XbMR",
        "outputId": "01dc9f17-8146-4178-f67f-07fdc2aabeb0"
      },
      "outputs": [
        {
          "output_type": "stream",
          "name": "stdout",
          "text": [
            "100 dummy color images created in 'images_input'\n"
          ]
        }
      ],
      "source": [
        "import cv2\n",
        "import numpy as np\n",
        "import os\n",
        "\n",
        "input_folder = 'images_input'\n",
        "os.makedirs(input_folder, exist_ok=True)\n",
        "\n",
        "for i in range(100):\n",
        "    img = np.random.randint(0, 256, (100, 100, 3), dtype=np.uint8)\n",
        "    filename = f'image_{i+1:03}.jpg'\n",
        "    cv2.imwrite(os.path.join(input_folder, filename), img)\n",
        "\n",
        "print(\"100 dummy color images created in 'images_input'\")"
      ]
    },
    {
      "cell_type": "code",
      "source": [
        "# Create output folder\n",
        "output_folder = 'images_resized_50'\n",
        "os.makedirs(output_folder, exist_ok=True)\n",
        "\n",
        "# Process images\n",
        "image_files = [f for f in os.listdir(input_folder) if f.lower().endswith(('.jpg', '.jpeg', '.png'))][:100]\n",
        "\n",
        "for i, file_name in enumerate(image_files):\n",
        "    input_path = os.path.join(input_folder, file_name)\n",
        "    output_path = os.path.join(output_folder, file_name)\n",
        "\n",
        "    img = cv2.imread(input_path)\n",
        "    if img is None:\n",
        "        print(f\"Could not read {file_name}\")\n",
        "        continue\n",
        "\n",
        "    # Resize to 50%\n",
        "    new_width = int(img.shape[1] * 0.5)\n",
        "    new_height = int(img.shape[0] * 0.5)\n",
        "    resized_img = cv2.resize(img, (new_width, new_height), interpolation=cv2.INTER_AREA)\n",
        "\n",
        "    # Save\n",
        "    cv2.imwrite(output_path, resized_img)\n",
        "    print(f\"{i+1}: Resized {file_name} to 50%\")\n",
        "\n",
        "print(\"All 100 images resized and saved to 'images_resized_50'\")"
      ],
      "metadata": {
        "colab": {
          "base_uri": "https://localhost:8080/"
        },
        "id": "WnfzmPdSX2Ly",
        "outputId": "c1d798cd-40a2-4e5d-e5be-5082307fa091"
      },
      "execution_count": 2,
      "outputs": [
        {
          "output_type": "stream",
          "name": "stdout",
          "text": [
            "1: Resized image_011.jpg to 50%\n",
            "2: Resized image_048.jpg to 50%\n",
            "3: Resized image_042.jpg to 50%\n",
            "4: Resized image_063.jpg to 50%\n",
            "5: Resized image_090.jpg to 50%\n",
            "6: Resized image_081.jpg to 50%\n",
            "7: Resized image_089.jpg to 50%\n",
            "8: Resized image_014.jpg to 50%\n",
            "9: Resized image_016.jpg to 50%\n",
            "10: Resized image_039.jpg to 50%\n",
            "11: Resized image_059.jpg to 50%\n",
            "12: Resized image_044.jpg to 50%\n",
            "13: Resized image_085.jpg to 50%\n",
            "14: Resized image_022.jpg to 50%\n",
            "15: Resized image_100.jpg to 50%\n",
            "16: Resized image_097.jpg to 50%\n",
            "17: Resized image_023.jpg to 50%\n",
            "18: Resized image_057.jpg to 50%\n",
            "19: Resized image_031.jpg to 50%\n",
            "20: Resized image_051.jpg to 50%\n",
            "21: Resized image_028.jpg to 50%\n",
            "22: Resized image_001.jpg to 50%\n",
            "23: Resized image_055.jpg to 50%\n",
            "24: Resized image_043.jpg to 50%\n",
            "25: Resized image_040.jpg to 50%\n",
            "26: Resized image_034.jpg to 50%\n",
            "27: Resized image_072.jpg to 50%\n",
            "28: Resized image_091.jpg to 50%\n",
            "29: Resized image_083.jpg to 50%\n",
            "30: Resized image_041.jpg to 50%\n",
            "31: Resized image_009.jpg to 50%\n",
            "32: Resized image_086.jpg to 50%\n",
            "33: Resized image_015.jpg to 50%\n",
            "34: Resized image_010.jpg to 50%\n",
            "35: Resized image_029.jpg to 50%\n",
            "36: Resized image_019.jpg to 50%\n",
            "37: Resized image_068.jpg to 50%\n",
            "38: Resized image_077.jpg to 50%\n",
            "39: Resized image_030.jpg to 50%\n",
            "40: Resized image_037.jpg to 50%\n",
            "41: Resized image_021.jpg to 50%\n",
            "42: Resized image_058.jpg to 50%\n",
            "43: Resized image_061.jpg to 50%\n",
            "44: Resized image_088.jpg to 50%\n",
            "45: Resized image_092.jpg to 50%\n",
            "46: Resized image_096.jpg to 50%\n",
            "47: Resized image_069.jpg to 50%\n",
            "48: Resized image_026.jpg to 50%\n",
            "49: Resized image_067.jpg to 50%\n",
            "50: Resized image_004.jpg to 50%\n",
            "51: Resized image_099.jpg to 50%\n",
            "52: Resized image_035.jpg to 50%\n",
            "53: Resized image_066.jpg to 50%\n",
            "54: Resized image_007.jpg to 50%\n",
            "55: Resized image_002.jpg to 50%\n",
            "56: Resized image_080.jpg to 50%\n",
            "57: Resized image_065.jpg to 50%\n",
            "58: Resized image_052.jpg to 50%\n",
            "59: Resized image_056.jpg to 50%\n",
            "60: Resized image_053.jpg to 50%\n",
            "61: Resized image_054.jpg to 50%\n",
            "62: Resized image_094.jpg to 50%\n",
            "63: Resized image_093.jpg to 50%\n",
            "64: Resized image_071.jpg to 50%\n",
            "65: Resized image_038.jpg to 50%\n",
            "66: Resized image_045.jpg to 50%\n",
            "67: Resized image_005.jpg to 50%\n",
            "68: Resized image_018.jpg to 50%\n",
            "69: Resized image_050.jpg to 50%\n",
            "70: Resized image_062.jpg to 50%\n",
            "71: Resized image_024.jpg to 50%\n",
            "72: Resized image_074.jpg to 50%\n",
            "73: Resized image_070.jpg to 50%\n",
            "74: Resized image_012.jpg to 50%\n",
            "75: Resized image_078.jpg to 50%\n",
            "76: Resized image_020.jpg to 50%\n",
            "77: Resized image_006.jpg to 50%\n",
            "78: Resized image_008.jpg to 50%\n",
            "79: Resized image_073.jpg to 50%\n",
            "80: Resized image_082.jpg to 50%\n",
            "81: Resized image_095.jpg to 50%\n",
            "82: Resized image_075.jpg to 50%\n",
            "83: Resized image_049.jpg to 50%\n",
            "84: Resized image_064.jpg to 50%\n",
            "85: Resized image_036.jpg to 50%\n",
            "86: Resized image_084.jpg to 50%\n",
            "87: Resized image_047.jpg to 50%\n",
            "88: Resized image_032.jpg to 50%\n",
            "89: Resized image_098.jpg to 50%\n",
            "90: Resized image_027.jpg to 50%\n",
            "91: Resized image_017.jpg to 50%\n",
            "92: Resized image_025.jpg to 50%\n",
            "93: Resized image_013.jpg to 50%\n",
            "94: Resized image_087.jpg to 50%\n",
            "95: Resized image_060.jpg to 50%\n",
            "96: Resized image_079.jpg to 50%\n",
            "97: Resized image_033.jpg to 50%\n",
            "98: Resized image_003.jpg to 50%\n",
            "99: Resized image_076.jpg to 50%\n",
            "100: Resized image_046.jpg to 50%\n",
            "All 100 images resized and saved to 'images_resized_50'\n"
          ]
        }
      ]
    },
    {
      "cell_type": "code",
      "source": [
        "import shutil\n",
        "from google.colab import files\n",
        "\n",
        "shutil.make_archive(\"resized_images_50\", 'zip', output_folder)\n",
        "files.download(\"resized_images_50.zip\")"
      ],
      "metadata": {
        "colab": {
          "base_uri": "https://localhost:8080/",
          "height": 17
        },
        "id": "T6sC8LyVYJfi",
        "outputId": "3ac9927b-ee52-4f8c-ea37-58f713ce014a"
      },
      "execution_count": 3,
      "outputs": [
        {
          "output_type": "display_data",
          "data": {
            "text/plain": [
              "<IPython.core.display.Javascript object>"
            ],
            "application/javascript": [
              "\n",
              "    async function download(id, filename, size) {\n",
              "      if (!google.colab.kernel.accessAllowed) {\n",
              "        return;\n",
              "      }\n",
              "      const div = document.createElement('div');\n",
              "      const label = document.createElement('label');\n",
              "      label.textContent = `Downloading \"${filename}\": `;\n",
              "      div.appendChild(label);\n",
              "      const progress = document.createElement('progress');\n",
              "      progress.max = size;\n",
              "      div.appendChild(progress);\n",
              "      document.body.appendChild(div);\n",
              "\n",
              "      const buffers = [];\n",
              "      let downloaded = 0;\n",
              "\n",
              "      const channel = await google.colab.kernel.comms.open(id);\n",
              "      // Send a message to notify the kernel that we're ready.\n",
              "      channel.send({})\n",
              "\n",
              "      for await (const message of channel.messages) {\n",
              "        // Send a message to notify the kernel that we're ready.\n",
              "        channel.send({})\n",
              "        if (message.buffers) {\n",
              "          for (const buffer of message.buffers) {\n",
              "            buffers.push(buffer);\n",
              "            downloaded += buffer.byteLength;\n",
              "            progress.value = downloaded;\n",
              "          }\n",
              "        }\n",
              "      }\n",
              "      const blob = new Blob(buffers, {type: 'application/binary'});\n",
              "      const a = document.createElement('a');\n",
              "      a.href = window.URL.createObjectURL(blob);\n",
              "      a.download = filename;\n",
              "      div.appendChild(a);\n",
              "      a.click();\n",
              "      div.remove();\n",
              "    }\n",
              "  "
            ]
          },
          "metadata": {}
        },
        {
          "output_type": "display_data",
          "data": {
            "text/plain": [
              "<IPython.core.display.Javascript object>"
            ],
            "application/javascript": [
              "download(\"download_1a6529d3-1ffd-4c00-b87d-f197befe233f\", \"resized_images_50.zip\", 321239)"
            ]
          },
          "metadata": {}
        }
      ]
    },
    {
      "cell_type": "code",
      "source": [],
      "metadata": {
        "id": "5b7YMT29YOxh"
      },
      "execution_count": 3,
      "outputs": []
    }
  ]
}