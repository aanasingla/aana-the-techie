{
  "nbformat": 4,
  "nbformat_minor": 0,
  "metadata": {
    "colab": {
      "provenance": [],
      "include_colab_link": true
    },
    "kernelspec": {
      "name": "python3",
      "display_name": "Python 3"
    },
    "language_info": {
      "name": "python"
    }
  },
  "cells": [
    {
      "cell_type": "markdown",
      "metadata": {
        "id": "view-in-github",
        "colab_type": "text"
      },
      "source": [
        "<a href=\"https://colab.research.google.com/github/aanasingla/aana-the-techie/blob/main/Convert_100_images_to_grayscale.ipynb\" target=\"_parent\"><img src=\"https://colab.research.google.com/assets/colab-badge.svg\" alt=\"Open In Colab\"/></a>"
      ]
    },
    {
      "cell_type": "code",
      "source": [
        "import cv2\n",
        "import numpy as np\n",
        "import os\n",
        "\n",
        "# Create folder\n",
        "input_folder = 'images_input'\n",
        "os.makedirs(input_folder, exist_ok=True)\n",
        "\n",
        "# Generate 100 dummy colored images (100x100 px)\n",
        "for i in range(100):\n",
        "    img = np.random.randint(0, 256, (100, 100, 3), dtype=np.uint8)  # random color\n",
        "    filename = f'image_{i+1:03}.jpg'\n",
        "    cv2.imwrite(os.path.join(input_folder, filename), img)\n",
        "\n",
        "print(\"100 dummy color images generated in 'images_input' folder.\")"
      ],
      "metadata": {
        "colab": {
          "base_uri": "https://localhost:8080/"
        },
        "id": "lLaVQPQbVsvz",
        "outputId": "b4bd128a-566b-48d0-937a-5f83d301d50b"
      },
      "execution_count": 1,
      "outputs": [
        {
          "output_type": "stream",
          "name": "stdout",
          "text": [
            "100 dummy color images generated in 'images_input' folder.\n"
          ]
        }
      ]
    },
    {
      "cell_type": "code",
      "source": [
        "# Create output folder\n",
        "output_folder = 'images_bw'\n",
        "os.makedirs(output_folder, exist_ok=True)\n",
        "\n",
        "# Get images\n",
        "image_files = [f for f in os.listdir(input_folder) if f.lower().endswith(('.png', '.jpg', '.jpeg'))]\n",
        "\n",
        "# Convert to black-and-white\n",
        "for i, file_name in enumerate(image_files):\n",
        "    input_path = os.path.join(input_folder, file_name)\n",
        "    output_path = os.path.join(output_folder, file_name)\n",
        "\n",
        "    image = cv2.imread(input_path)\n",
        "    gray = cv2.cvtColor(image, cv2.COLOR_BGR2GRAY)\n",
        "    _, bw = cv2.threshold(gray, 127, 255, cv2.THRESH_BINARY)\n",
        "    cv2.imwrite(output_path, bw)\n",
        "\n",
        "    print(f\"{i+1}: {file_name} converted.\")\n",
        "\n",
        "print(\"All 100 images converted to black-and-white.\")"
      ],
      "metadata": {
        "colab": {
          "base_uri": "https://localhost:8080/"
        },
        "id": "SUXMjujmWhHe",
        "outputId": "911dbac9-b2d7-4d6b-f16f-512547d56719"
      },
      "execution_count": 2,
      "outputs": [
        {
          "output_type": "stream",
          "name": "stdout",
          "text": [
            "1: image_011.jpg converted.\n",
            "2: image_048.jpg converted.\n",
            "3: image_042.jpg converted.\n",
            "4: image_063.jpg converted.\n",
            "5: image_090.jpg converted.\n",
            "6: image_081.jpg converted.\n",
            "7: image_089.jpg converted.\n",
            "8: image_014.jpg converted.\n",
            "9: image_016.jpg converted.\n",
            "10: image_039.jpg converted.\n",
            "11: image_059.jpg converted.\n",
            "12: image_044.jpg converted.\n",
            "13: image_085.jpg converted.\n",
            "14: image_022.jpg converted.\n",
            "15: image_100.jpg converted.\n",
            "16: image_097.jpg converted.\n",
            "17: image_023.jpg converted.\n",
            "18: image_057.jpg converted.\n",
            "19: image_031.jpg converted.\n",
            "20: image_051.jpg converted.\n",
            "21: image_028.jpg converted.\n",
            "22: image_001.jpg converted.\n",
            "23: image_055.jpg converted.\n",
            "24: image_043.jpg converted.\n",
            "25: image_040.jpg converted.\n",
            "26: image_034.jpg converted.\n",
            "27: image_072.jpg converted.\n",
            "28: image_091.jpg converted.\n",
            "29: image_083.jpg converted.\n",
            "30: image_041.jpg converted.\n",
            "31: image_009.jpg converted.\n",
            "32: image_086.jpg converted.\n",
            "33: image_015.jpg converted.\n",
            "34: image_010.jpg converted.\n",
            "35: image_029.jpg converted.\n",
            "36: image_019.jpg converted.\n",
            "37: image_068.jpg converted.\n",
            "38: image_077.jpg converted.\n",
            "39: image_030.jpg converted.\n",
            "40: image_037.jpg converted.\n",
            "41: image_021.jpg converted.\n",
            "42: image_058.jpg converted.\n",
            "43: image_061.jpg converted.\n",
            "44: image_088.jpg converted.\n",
            "45: image_092.jpg converted.\n",
            "46: image_096.jpg converted.\n",
            "47: image_069.jpg converted.\n",
            "48: image_026.jpg converted.\n",
            "49: image_067.jpg converted.\n",
            "50: image_004.jpg converted.\n",
            "51: image_099.jpg converted.\n",
            "52: image_035.jpg converted.\n",
            "53: image_066.jpg converted.\n",
            "54: image_007.jpg converted.\n",
            "55: image_002.jpg converted.\n",
            "56: image_080.jpg converted.\n",
            "57: image_065.jpg converted.\n",
            "58: image_052.jpg converted.\n",
            "59: image_056.jpg converted.\n",
            "60: image_053.jpg converted.\n",
            "61: image_054.jpg converted.\n",
            "62: image_094.jpg converted.\n",
            "63: image_093.jpg converted.\n",
            "64: image_071.jpg converted.\n",
            "65: image_038.jpg converted.\n",
            "66: image_045.jpg converted.\n",
            "67: image_005.jpg converted.\n",
            "68: image_018.jpg converted.\n",
            "69: image_050.jpg converted.\n",
            "70: image_062.jpg converted.\n",
            "71: image_024.jpg converted.\n",
            "72: image_074.jpg converted.\n",
            "73: image_070.jpg converted.\n",
            "74: image_012.jpg converted.\n",
            "75: image_078.jpg converted.\n",
            "76: image_020.jpg converted.\n",
            "77: image_006.jpg converted.\n",
            "78: image_008.jpg converted.\n",
            "79: image_073.jpg converted.\n",
            "80: image_082.jpg converted.\n",
            "81: image_095.jpg converted.\n",
            "82: image_075.jpg converted.\n",
            "83: image_049.jpg converted.\n",
            "84: image_064.jpg converted.\n",
            "85: image_036.jpg converted.\n",
            "86: image_084.jpg converted.\n",
            "87: image_047.jpg converted.\n",
            "88: image_032.jpg converted.\n",
            "89: image_098.jpg converted.\n",
            "90: image_027.jpg converted.\n",
            "91: image_017.jpg converted.\n",
            "92: image_025.jpg converted.\n",
            "93: image_013.jpg converted.\n",
            "94: image_087.jpg converted.\n",
            "95: image_060.jpg converted.\n",
            "96: image_079.jpg converted.\n",
            "97: image_033.jpg converted.\n",
            "98: image_003.jpg converted.\n",
            "99: image_076.jpg converted.\n",
            "100: image_046.jpg converted.\n",
            "All 100 images converted to black-and-white.\n"
          ]
        }
      ]
    },
    {
      "cell_type": "code",
      "source": [
        "import shutil\n",
        "from google.colab import files\n",
        "\n",
        "# Create zip of output folder\n",
        "shutil.make_archive(\"bw_images\", 'zip', output_folder)\n",
        "\n",
        "# Download\n",
        "files.download(\"bw_images.zip\")"
      ],
      "metadata": {
        "colab": {
          "base_uri": "https://localhost:8080/",
          "height": 17
        },
        "id": "LEmG2vyeWq6_",
        "outputId": "194792e6-eb3c-4c6d-afbb-cbed865536cd"
      },
      "execution_count": 4,
      "outputs": [
        {
          "output_type": "display_data",
          "data": {
            "text/plain": [
              "<IPython.core.display.Javascript object>"
            ],
            "application/javascript": [
              "\n",
              "    async function download(id, filename, size) {\n",
              "      if (!google.colab.kernel.accessAllowed) {\n",
              "        return;\n",
              "      }\n",
              "      const div = document.createElement('div');\n",
              "      const label = document.createElement('label');\n",
              "      label.textContent = `Downloading \"${filename}\": `;\n",
              "      div.appendChild(label);\n",
              "      const progress = document.createElement('progress');\n",
              "      progress.max = size;\n",
              "      div.appendChild(progress);\n",
              "      document.body.appendChild(div);\n",
              "\n",
              "      const buffers = [];\n",
              "      let downloaded = 0;\n",
              "\n",
              "      const channel = await google.colab.kernel.comms.open(id);\n",
              "      // Send a message to notify the kernel that we're ready.\n",
              "      channel.send({})\n",
              "\n",
              "      for await (const message of channel.messages) {\n",
              "        // Send a message to notify the kernel that we're ready.\n",
              "        channel.send({})\n",
              "        if (message.buffers) {\n",
              "          for (const buffer of message.buffers) {\n",
              "            buffers.push(buffer);\n",
              "            downloaded += buffer.byteLength;\n",
              "            progress.value = downloaded;\n",
              "          }\n",
              "        }\n",
              "      }\n",
              "      const blob = new Blob(buffers, {type: 'application/binary'});\n",
              "      const a = document.createElement('a');\n",
              "      a.href = window.URL.createObjectURL(blob);\n",
              "      a.download = filename;\n",
              "      div.appendChild(a);\n",
              "      a.click();\n",
              "      div.remove();\n",
              "    }\n",
              "  "
            ]
          },
          "metadata": {}
        },
        {
          "output_type": "display_data",
          "data": {
            "text/plain": [
              "<IPython.core.display.Javascript object>"
            ],
            "application/javascript": [
              "download(\"download_0730c14f-8db9-4f99-8666-1a9b3a5543de\", \"bw_images.zip\", 1318190)"
            ]
          },
          "metadata": {}
        }
      ]
    }
  ]
}