{
  "nbformat": 4,
  "nbformat_minor": 0,
  "metadata": {
    "colab": {
      "provenance": [],
      "include_colab_link": true
    },
    "kernelspec": {
      "name": "python3",
      "display_name": "Python 3"
    },
    "language_info": {
      "name": "python"
    }
  },
  "cells": [
    {
      "cell_type": "markdown",
      "metadata": {
        "id": "view-in-github",
        "colab_type": "text"
      },
      "source": [
        "<a href=\"https://colab.research.google.com/github/aanasingla/aana-the-techie/blob/main/Copy_of_Web_Crawler.ipynb\" target=\"_parent\"><img src=\"https://colab.research.google.com/assets/colab-badge.svg\" alt=\"Open In Colab\"/></a>"
      ]
    },
    {
      "cell_type": "code",
      "source": [
        "!pip install requests beautifulsoup4 fake-useragent pandas"
      ],
      "metadata": {
        "colab": {
          "base_uri": "https://localhost:8080/"
        },
        "id": "sfDhrf0f8aL4",
        "outputId": "b5f5b487-9450-4d91-9822-6d665f1d3dc2"
      },
      "execution_count": 1,
      "outputs": [
        {
          "output_type": "stream",
          "name": "stdout",
          "text": [
            "Requirement already satisfied: requests in /usr/local/lib/python3.11/dist-packages (2.32.3)\n",
            "Requirement already satisfied: beautifulsoup4 in /usr/local/lib/python3.11/dist-packages (4.13.4)\n",
            "Collecting fake-useragent\n",
            "  Downloading fake_useragent-2.2.0-py3-none-any.whl.metadata (17 kB)\n",
            "Requirement already satisfied: pandas in /usr/local/lib/python3.11/dist-packages (2.2.2)\n",
            "Requirement already satisfied: charset-normalizer<4,>=2 in /usr/local/lib/python3.11/dist-packages (from requests) (3.4.2)\n",
            "Requirement already satisfied: idna<4,>=2.5 in /usr/local/lib/python3.11/dist-packages (from requests) (3.10)\n",
            "Requirement already satisfied: urllib3<3,>=1.21.1 in /usr/local/lib/python3.11/dist-packages (from requests) (2.4.0)\n",
            "Requirement already satisfied: certifi>=2017.4.17 in /usr/local/lib/python3.11/dist-packages (from requests) (2025.6.15)\n",
            "Requirement already satisfied: soupsieve>1.2 in /usr/local/lib/python3.11/dist-packages (from beautifulsoup4) (2.7)\n",
            "Requirement already satisfied: typing-extensions>=4.0.0 in /usr/local/lib/python3.11/dist-packages (from beautifulsoup4) (4.14.0)\n",
            "Requirement already satisfied: numpy>=1.23.2 in /usr/local/lib/python3.11/dist-packages (from pandas) (2.0.2)\n",
            "Requirement already satisfied: python-dateutil>=2.8.2 in /usr/local/lib/python3.11/dist-packages (from pandas) (2.9.0.post0)\n",
            "Requirement already satisfied: pytz>=2020.1 in /usr/local/lib/python3.11/dist-packages (from pandas) (2025.2)\n",
            "Requirement already satisfied: tzdata>=2022.7 in /usr/local/lib/python3.11/dist-packages (from pandas) (2025.2)\n",
            "Requirement already satisfied: six>=1.5 in /usr/local/lib/python3.11/dist-packages (from python-dateutil>=2.8.2->pandas) (1.17.0)\n",
            "Downloading fake_useragent-2.2.0-py3-none-any.whl (161 kB)\n",
            "\u001b[2K   \u001b[90m━━━━━━━━━━━━━━━━━━━━━━━━━━━━━━━━━━━━━━━━\u001b[0m \u001b[32m161.7/161.7 kB\u001b[0m \u001b[31m3.0 MB/s\u001b[0m eta \u001b[36m0:00:00\u001b[0m\n",
            "\u001b[?25hInstalling collected packages: fake-useragent\n",
            "Successfully installed fake-useragent-2.2.0\n"
          ]
        }
      ]
    },
    {
      "cell_type": "code",
      "source": [
        "import requests\n",
        "from bs4 import BeautifulSoup\n",
        "import re\n",
        "from urllib.parse import urljoin, urlparse\n",
        "from fake_useragent import UserAgent\n",
        "import pandas as pd\n",
        "\n",
        "# Settings\n",
        "start_url = \"https://www.python.org\"  # You can change this\n",
        "email_regex = r\"[a-zA-Z0-9._%+-]+@[a-zA-Z0-9.-]+\\.[a-zA-Z]{2,}\"\n",
        "ua = UserAgent()\n",
        "headers = {'User-Agent': ua.random}\n",
        "\n",
        "# Storage\n",
        "visited_urls = set()\n",
        "emails_found = {}\n",
        "\n",
        "# Categorize email by domain\n",
        "def categorize_email(email):\n",
        "    if \"support\" in email or \"help\" in email:\n",
        "        return \"Support\"\n",
        "    elif \"info\" in email or \"contact\" in email:\n",
        "        return \"Info\"\n",
        "    elif \"edu\" in email:\n",
        "        return \"Educational\"\n",
        "    else:\n",
        "        return \"General\"\n",
        "\n",
        "# Crawler Function\n",
        "def crawl(url, depth=2):\n",
        "    if depth == 0 or url in visited_urls:\n",
        "        return\n",
        "    visited_urls.add(url)\n",
        "\n",
        "    try:\n",
        "        print(f\"Scanning: {url}\")\n",
        "        res = requests.get(url, headers=headers, timeout=5)\n",
        "        soup = BeautifulSoup(res.text, \"html.parser\")\n",
        "\n",
        "        # Extract and categorize emails\n",
        "        new_emails = set(re.findall(email_regex, res.text))\n",
        "        for email in new_emails:\n",
        "            category = categorize_email(email)\n",
        "            emails_found[email] = category\n",
        "\n",
        "        # Crawl internal links\n",
        "        for link in soup.find_all(\"a\", href=True):\n",
        "            next_url = urljoin(url, link['href'])\n",
        "            if urlparse(next_url).netloc == urlparse(start_url).netloc:\n",
        "                crawl(next_url, depth - 1)\n",
        "\n",
        "    except Exception as e:\n",
        "        print(f\"Failed to fetch {url}: {e}\")"
      ],
      "metadata": {
        "id": "Zg1PNYLb9BMD"
      },
      "execution_count": 2,
      "outputs": []
    },
    {
      "cell_type": "code",
      "source": [
        "# Start crawling\n",
        "crawl(start_url, depth=2)\n",
        "\n",
        "# Save to DataFrame\n",
        "df = pd.DataFrame(list(emails_found.items()), columns=[\"Email\", \"Category\"])\n",
        "df.to_csv(\"scraped_emails.csv\", index=False)\n",
        "\n",
        "# Show result\n",
        "print(\"\\n📧 Emails Found:\")\n",
        "print(df)\n",
        "\n",
        "# Optional download in Colab\n",
        "from google.colab import files\n",
        "files.download(\"scraped_emails.csv\")"
      ],
      "metadata": {
        "colab": {
          "base_uri": "https://localhost:8080/",
          "height": 1000
        },
        "id": "-jcy615X9YvS",
        "outputId": "5e31fb77-d21a-425e-9673-5aa7d0f891e0"
      },
      "execution_count": 3,
      "outputs": [
        {
          "output_type": "stream",
          "name": "stdout",
          "text": [
            "Scanning: https://www.python.org\n",
            "Scanning: https://www.python.org#content\n",
            "Scanning: https://www.python.org#python-network\n",
            "Scanning: https://www.python.org/\n",
            "Scanning: https://www.python.org/psf/\n",
            "Scanning: https://www.python.org/jobs/\n",
            "Scanning: https://www.python.org/community/\n",
            "Scanning: https://www.python.org#top\n",
            "Scanning: https://www.python.org#site-map\n",
            "Scanning: https://www.python.org/community/irc/\n",
            "Scanning: https://www.python.org/about/\n",
            "Scanning: https://www.python.org/about/apps/\n",
            "Scanning: https://www.python.org/about/quotes/\n",
            "Scanning: https://www.python.org/about/gettingstarted/\n",
            "Scanning: https://www.python.org/about/help/\n",
            "Scanning: https://www.python.org/downloads/\n",
            "Scanning: https://www.python.org/downloads/source/\n",
            "Scanning: https://www.python.org/downloads/windows/\n",
            "Scanning: https://www.python.org/downloads/macos/\n",
            "Scanning: https://www.python.org/download/other/\n",
            "Scanning: https://www.python.org/download/alternatives\n",
            "Scanning: https://www.python.org/doc/\n",
            "Scanning: https://www.python.org/doc/av\n",
            "Scanning: https://www.python.org/doc/essays/\n",
            "Scanning: https://www.python.org/community/diversity/\n",
            "Scanning: https://www.python.org/community/lists/\n",
            "Scanning: https://www.python.org/community/forums/\n",
            "Scanning: https://www.python.org/psf/annual-report/2024/\n",
            "Scanning: https://www.python.org/community/workshops/\n",
            "Scanning: https://www.python.org/community/sigs/\n",
            "Scanning: https://www.python.org/community/logos/\n",
            "Scanning: https://www.python.org/psf/conduct/\n",
            "Scanning: https://www.python.org/community/awards\n",
            "Scanning: https://www.python.org/psf/get-involved/\n",
            "Scanning: https://www.python.org/psf/community-stories/\n",
            "Scanning: https://www.python.org/success-stories/\n",
            "Scanning: https://www.python.org/success-stories/category/arts/\n",
            "Scanning: https://www.python.org/success-stories/category/business/\n",
            "Scanning: https://www.python.org/success-stories/category/education/\n",
            "Scanning: https://www.python.org/success-stories/category/engineering/\n",
            "Scanning: https://www.python.org/success-stories/category/government/\n",
            "Scanning: https://www.python.org/success-stories/category/scientific/\n",
            "Scanning: https://www.python.org/success-stories/category/software-development/\n",
            "Scanning: https://www.python.org/blogs/\n",
            "Scanning: https://www.python.org/psf/newsletter/\n",
            "Scanning: https://www.python.org/events/\n",
            "Scanning: https://www.python.org/events/python-events/\n",
            "Scanning: https://www.python.org/events/python-user-group/\n",
            "Scanning: https://www.python.org/events/python-events/past/\n",
            "Scanning: https://www.python.org/events/python-user-group/past/\n",
            "Scanning: https://www.python.org/shell/\n",
            "Scanning: https://www.python.org/downloads/release/python-3135/\n",
            "Scanning: https://www.python.org/events/calendars/\n",
            "Scanning: https://www.python.org/events/python-user-group/2007/\n",
            "Scanning: https://www.python.org/events/python-user-group/1984/\n",
            "Scanning: https://www.python.org/events/python-user-group/2073/\n",
            "Scanning: https://www.python.org/events/python-user-group/2004/\n",
            "Scanning: https://www.python.org/events/python-user-group/1840/\n",
            "Scanning: https://www.python.org/success-stories/reimagining-data-science-with-python-based-operators-in-einblicks-visual-canvas/\n",
            "Scanning: https://www.python.org/about/apps\n",
            "Scanning: https://www.python.org/psf/membership/\n",
            "Scanning: https://www.python.org/psf/donations/\n",
            "Scanning: https://www.python.org/dev/\n",
            "Scanning: https://www.python.org/dev/core-mentorship/\n",
            "Scanning: https://www.python.org/dev/security/\n",
            "Scanning: https://www.python.org/psf-landing/\n",
            "Scanning: https://www.python.org/about/legal/\n",
            "\n",
            "📧 Emails Found:\n",
            "                                               Email Category\n",
            "0                                    jobs@python.org  General\n",
            "1                                sponsors@python.org  General\n",
            "2                          psf-trademarks@python.org  General\n",
            "3                                     psf@python.org  General\n",
            "4                              psf-fellow@python.org  General\n",
            "5  j7gov1cmnqr9tvg14k621j7t5c@group.calendar.goog...  General\n",
            "6  3haig2m9msslkpf2tn1h56nn9g@group.calendar.goog...  General\n",
            "7                           psf-donations@python.org  General\n"
          ]
        },
        {
          "output_type": "display_data",
          "data": {
            "text/plain": [
              "<IPython.core.display.Javascript object>"
            ],
            "application/javascript": [
              "\n",
              "    async function download(id, filename, size) {\n",
              "      if (!google.colab.kernel.accessAllowed) {\n",
              "        return;\n",
              "      }\n",
              "      const div = document.createElement('div');\n",
              "      const label = document.createElement('label');\n",
              "      label.textContent = `Downloading \"${filename}\": `;\n",
              "      div.appendChild(label);\n",
              "      const progress = document.createElement('progress');\n",
              "      progress.max = size;\n",
              "      div.appendChild(progress);\n",
              "      document.body.appendChild(div);\n",
              "\n",
              "      const buffers = [];\n",
              "      let downloaded = 0;\n",
              "\n",
              "      const channel = await google.colab.kernel.comms.open(id);\n",
              "      // Send a message to notify the kernel that we're ready.\n",
              "      channel.send({})\n",
              "\n",
              "      for await (const message of channel.messages) {\n",
              "        // Send a message to notify the kernel that we're ready.\n",
              "        channel.send({})\n",
              "        if (message.buffers) {\n",
              "          for (const buffer of message.buffers) {\n",
              "            buffers.push(buffer);\n",
              "            downloaded += buffer.byteLength;\n",
              "            progress.value = downloaded;\n",
              "          }\n",
              "        }\n",
              "      }\n",
              "      const blob = new Blob(buffers, {type: 'application/binary'});\n",
              "      const a = document.createElement('a');\n",
              "      a.href = window.URL.createObjectURL(blob);\n",
              "      a.download = filename;\n",
              "      div.appendChild(a);\n",
              "      a.click();\n",
              "      div.remove();\n",
              "    }\n",
              "  "
            ]
          },
          "metadata": {}
        },
        {
          "output_type": "display_data",
          "data": {
            "text/plain": [
              "<IPython.core.display.Javascript object>"
            ],
            "application/javascript": [
              "download(\"download_8d19fc5e-a1ac-4afd-88b2-07cfbd283a72\", \"scraped_emails.csv\", 309)"
            ]
          },
          "metadata": {}
        }
      ]
    },
    {
      "cell_type": "code",
      "source": [],
      "metadata": {
        "id": "yE-1swL69duC"
      },
      "execution_count": null,
      "outputs": []
    }
  ]
}